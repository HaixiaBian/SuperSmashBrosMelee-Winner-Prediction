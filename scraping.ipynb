{
 "cells": [
  {
   "cell_type": "markdown",
   "metadata": {},
   "source": [
    "Below is the code for scraping tournament data. We will likely convert this to a script."
   ]
  },
  {
   "cell_type": "code",
   "execution_count": 1,
   "metadata": {},
   "outputs": [],
   "source": [
    "from selenium import webdriver\n",
    "from selenium.webdriver.support.ui import WebDriverWait\n",
    "from selenium.webdriver.support import expected_conditions as EC\n",
    "from selenium.webdriver.common.by import By\n",
    "from selenium.common.exceptions import TimeoutException\n",
    "from urllib.request import urlretrieve\n",
    "import os"
   ]
  },
  {
   "cell_type": "markdown",
   "metadata": {},
   "source": [
    "`get_link` gets all links to games where fox is playing vs jigglypuff. We will eliminate this requirement when we go more general."
   ]
  },
  {
   "cell_type": "code",
   "execution_count": 2,
   "metadata": {},
   "outputs": [],
   "source": [
    "def get_link(g):\n",
    "    # Get the image icons of the characters\n",
    "    icons = g.find_elements_by_css_selector(\"img\")\n",
    "    # Get the icon ids based on the source image. This shows which characters are being played.\n",
    "    icon_ids = sorted([int(icon.get_attribute(\"src\").split(\"icon\")[1].split(\"-\")[1]) for icon in icons])\n",
    "    # Return None if it's not Fox vs Puff\n",
    "    if icon_ids != [2, 15]:\n",
    "        return None\n",
    "    # Else return the link to the game.\n",
    "    return g.find_element_by_css_selector(\"a\").get_attribute(\"href\")"
   ]
  },
  {
   "cell_type": "markdown",
   "metadata": {},
   "source": [
    "Starts the selenium web driver."
   ]
  },
  {
   "cell_type": "code",
   "execution_count": 3,
   "metadata": {},
   "outputs": [],
   "source": [
    "driver = webdriver.Firefox()"
   ]
  },
  {
   "cell_type": "markdown",
   "metadata": {},
   "source": [
    "The main code: goes through each tournament page and gets all links."
   ]
  },
  {
   "cell_type": "code",
   "execution_count": 4,
   "metadata": {},
   "outputs": [],
   "source": [
    "links = []\n",
    "for i in range(12):\n",
    "    driver.get(\"https://slippi.gg/tournament/97437?page={}\".format(i+1))\n",
    "    delay = 10\n",
    "    # Waits 10 seconds for page to load\n",
    "    try:\n",
    "        myElem = WebDriverWait(driver, delay).until(EC.presence_of_element_located((By.CSS_SELECTOR, 'tbody')))\n",
    "    except TimeoutException:\n",
    "        print(\"Loading took too much time!\")\n",
    "    # Gets the games from the table, and thus the links.\n",
    "    games = driver.find_element_by_css_selector(\"tbody\").find_elements_by_css_selector(\"tr\")\n",
    "    cur_links = [get_link(game) for game in games]\n",
    "    cur_links = [link for link in cur_links if link != None]\n",
    "    links += cur_links"
   ]
  },
  {
   "cell_type": "markdown",
   "metadata": {},
   "source": [
    "Downloads all the links that were retrieved."
   ]
  },
  {
   "cell_type": "code",
   "execution_count": 72,
   "metadata": {},
   "outputs": [],
   "source": [
    "for link in links:\n",
    "    urlretrieve(link, os.path.join(\"./slip\", link.split(\"/\")[-1]))"
   ]
  }
 ],
 "metadata": {
  "kernelspec": {
   "display_name": "Python 3",
   "language": "python",
   "name": "python3"
  },
  "language_info": {
   "codemirror_mode": {
    "name": "ipython",
    "version": 3
   },
   "file_extension": ".py",
   "mimetype": "text/x-python",
   "name": "python",
   "nbconvert_exporter": "python",
   "pygments_lexer": "ipython3",
   "version": "3.7.4"
  }
 },
 "nbformat": 4,
 "nbformat_minor": 2
}
