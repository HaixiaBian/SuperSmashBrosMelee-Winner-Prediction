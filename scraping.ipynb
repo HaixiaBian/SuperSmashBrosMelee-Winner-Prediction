{
 "cells": [
  {
   "cell_type": "code",
   "execution_count": 71,
   "metadata": {},
   "outputs": [],
   "source": [
    "from selenium import webdriver\n",
    "from selenium.webdriver.support.ui import WebDriverWait\n",
    "from selenium.webdriver.support import expected_conditions as EC\n",
    "from selenium.webdriver.common.by import By\n",
    "from selenium.common.exceptions import TimeoutException\n",
    "from urllib.request import urlretrieve\n",
    "import os"
   ]
  },
  {
   "cell_type": "code",
   "execution_count": 61,
   "metadata": {},
   "outputs": [],
   "source": [
    "def get_link(g):\n",
    "    icons = g.find_elements_by_css_selector(\"img\")\n",
    "    icon_ids = sorted([int(icon.get_attribute(\"src\").split(\"icon\")[1].split(\"-\")[1]) for icon in icons])\n",
    "    if icon_ids != [2, 15]:\n",
    "        return None\n",
    "    return g.find_element_by_css_selector(\"a\").get_attribute(\"href\")"
   ]
  },
  {
   "cell_type": "code",
   "execution_count": 62,
   "metadata": {},
   "outputs": [],
   "source": [
    "driver = webdriver.Firefox()"
   ]
  },
  {
   "cell_type": "code",
   "execution_count": 65,
   "metadata": {},
   "outputs": [],
   "source": [
    "links = []\n",
    "for i in range(12):\n",
    "    driver.get(\"https://slippi.gg/tournament/97437?page={}\".format(i+1))\n",
    "    delay = 10\n",
    "    try:\n",
    "        myElem = WebDriverWait(driver, delay).until(EC.presence_of_element_located((By.CSS_SELECTOR, 'tbody')))\n",
    "    except TimeoutException:\n",
    "        print(\"Loading took too much time!\")\n",
    "    games = driver.find_element_by_css_selector(\"tbody\").find_elements_by_css_selector(\"tr\")\n",
    "    cur_links = [get_link(game) for game in games]\n",
    "    cur_links = [link for link in cur_links if link != None]\n",
    "    links += cur_links"
   ]
  },
  {
   "cell_type": "code",
   "execution_count": 72,
   "metadata": {},
   "outputs": [],
   "source": [
    "for link in links:\n",
    "    urlretrieve(link, os.path.join(\"/home/oliver/Documents/DS5220/Melee-Win-Prediction/slip\", link.split(\"/\")[-1]))"
   ]
  }
 ],
 "metadata": {
  "kernelspec": {
   "display_name": "Python 3",
   "language": "python",
   "name": "python3"
  },
  "language_info": {
   "codemirror_mode": {
    "name": "ipython",
    "version": 3
   },
   "file_extension": ".py",
   "mimetype": "text/x-python",
   "name": "python",
   "nbconvert_exporter": "python",
   "pygments_lexer": "ipython3",
   "version": "3.6.9"
  }
 },
 "nbformat": 4,
 "nbformat_minor": 2
}
