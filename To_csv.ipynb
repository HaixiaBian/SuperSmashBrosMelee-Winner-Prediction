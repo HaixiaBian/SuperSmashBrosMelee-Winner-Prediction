{
 "cells": [
  {
   "cell_type": "markdown",
   "metadata": {},
   "source": [
    "Notebook for converting the .json files to csv."
   ]
  },
  {
   "cell_type": "code",
   "execution_count": 1,
   "metadata": {},
   "outputs": [],
   "source": [
    "import pandas as pd\n",
    "import json\n",
    "import os"
   ]
  },
  {
   "cell_type": "markdown",
   "metadata": {},
   "source": [
    "Method for loading the game. Only the `game.json` and `settings.json` files are used as of now."
   ]
  },
  {
   "cell_type": "code",
   "execution_count": 2,
   "metadata": {},
   "outputs": [],
   "source": [
    "def load_game(d):\n",
    "    with open(os.path.join(d, \"game.json\")) as f:\n",
    "        game = json.load(f)\n",
    "    with open(os.path.join(d, \"settings.json\")) as f:\n",
    "        settings = json.load(f)\n",
    "    return game, settings"
   ]
  },
  {
   "cell_type": "markdown",
   "metadata": {},
   "source": [
    "Constants, creating output directory."
   ]
  },
  {
   "cell_type": "code",
   "execution_count": 8,
   "metadata": {},
   "outputs": [],
   "source": [
    "setting_features = ['stageId', 'winner']\n",
    "game_features = {\n",
    "    'pre': [], \n",
    "    'post': ['positionX', 'positionY', 'facingDirection', \n",
    "             'percent', 'shieldSize', 'stocksRemaining', 'lCancelStatus']\n",
    "}\n",
    "in_dir = \"./out\"\n",
    "out_dir = \"./data\"\n",
    "os.makedirs(os.path.join(out_dir), exist_ok=True)\n",
    "columns = ['frame']\n",
    "for k in game_features:\n",
    "    columns += [\"p1_{}_{}\".format(k, feat) for feat in game_features[k]]\n",
    "for k in game_features:\n",
    "    columns += [\"p2_{}_{}\".format(k, feat) for feat in game_features[k]]\n",
    "columns += setting_features"
   ]
  },
  {
   "cell_type": "markdown",
   "metadata": {},
   "source": [
    "Goes through all the games in the input directory, reads them and gets the features, outputs to csv."
   ]
  },
  {
   "cell_type": "code",
   "execution_count": 9,
   "metadata": {},
   "outputs": [],
   "source": [
    "\n",
    "for d in os.listdir(in_dir):\n",
    "    \n",
    "    game, settings = load_game(os.path.join(in_dir, d))\n",
    "    jig_id = settings['jig_id']\n",
    "    other_id = settings['other_id']\n",
    "    setting_data = [settings[feat] for feat in setting_features]\n",
    "    data = []\n",
    "    for frame in game:\n",
    "        frame_data = []\n",
    "        frame_data += [int(frame)]\n",
    "        # Appending game features to the data\n",
    "        for k in game_features:\n",
    "            frame_data += [game[frame]['players'][jig_id][k][feat] for feat in game_features[k]]\n",
    "        for k in game_features:\n",
    "            frame_data += [game[frame]['players'][other_id][k][feat] for feat in game_features[k]]\n",
    "        # Appending settings data\n",
    "        frame_data += setting_data\n",
    "\n",
    "        data.append(frame_data)\n",
    "    \n",
    "    # Writes the data that was retrieved to a csv.\n",
    "    pd.DataFrame(data, columns=columns).to_csv(os.path.join(out_dir, d + \".csv\"), index=False)"
   ]
  }
 ],
 "metadata": {
  "kernelspec": {
   "display_name": "Python 3",
   "language": "python",
   "name": "python3"
  },
  "language_info": {
   "codemirror_mode": {
    "name": "ipython",
    "version": 3
   },
   "file_extension": ".py",
   "mimetype": "text/x-python",
   "name": "python",
   "nbconvert_exporter": "python",
   "pygments_lexer": "ipython3",
   "version": "3.7.4"
  }
 },
 "nbformat": 4,
 "nbformat_minor": 2
}
