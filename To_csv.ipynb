{
 "cells": [
  {
   "cell_type": "code",
   "execution_count": 5,
   "metadata": {},
   "outputs": [],
   "source": [
    "import pandas as pd\n",
    "import json\n",
    "import os"
   ]
  },
  {
   "cell_type": "code",
   "execution_count": 6,
   "metadata": {},
   "outputs": [],
   "source": [
    "def load_game(d):\n",
    "    with open(os.path.join(d, \"game.json\")) as f:\n",
    "        game = json.load(f)\n",
    "    with open(os.path.join(d, \"settings.json\")) as f:\n",
    "        settings = json.load(f)\n",
    "    return game, settings"
   ]
  },
  {
   "cell_type": "code",
   "execution_count": 11,
   "metadata": {},
   "outputs": [
    {
     "data": {
      "text/plain": [
       "{'slpVersion': '2.0.1',\n",
       " 'isTeams': False,\n",
       " 'isPAL': False,\n",
       " 'stageId': 2,\n",
       " 'players': [{'playerIndex': 0,\n",
       "   'port': 1,\n",
       "   'characterId': 2,\n",
       "   'characterColor': 3,\n",
       "   'startStocks': 4,\n",
       "   'type': 0,\n",
       "   'teamId': 0,\n",
       "   'controllerFix': 'UCF',\n",
       "   'nametag': ''},\n",
       "  {'playerIndex': 3,\n",
       "   'port': 4,\n",
       "   'characterId': 15,\n",
       "   'characterColor': 3,\n",
       "   'startStocks': 4,\n",
       "   'type': 0,\n",
       "   'teamId': 0,\n",
       "   'controllerFix': 'UCF',\n",
       "   'nametag': ''}],\n",
       " 'winner': False,\n",
       " 'jig_id': 3,\n",
       " 'other_id': 0}"
      ]
     },
     "execution_count": 11,
     "metadata": {},
     "output_type": "execute_result"
    }
   ],
   "source": [
    "settings"
   ]
  },
  {
   "cell_type": "code",
   "execution_count": 14,
   "metadata": {},
   "outputs": [],
   "source": [
    "setting_features = ['stageId', 'winner']\n",
    "game_features = {\n",
    "    'pre': [], \n",
    "    'post': ['positionX', 'positionY', 'facingDirection', \n",
    "             'percent', 'shieldSize', 'stocksRemaining', 'lCancelStatus']\n",
    "}\n",
    "in_dir = \"./out\"\n",
    "out_dir = \"./data\"\n",
    "os.makedirs(os.path.join(out_dir), exist_ok=True)\n",
    "for d in os.listdir(in_dir):\n",
    "    \n",
    "    game, settings = load_game(os.path.join(in_dir, d))\n",
    "    jig_id = settings['jig_id']\n",
    "    other_id = settings['other_id']\n",
    "    setting_data = [settings[feat] for feat in setting_features]\n",
    "    data = []\n",
    "    for frame in game:\n",
    "        frame_data = []\n",
    "        frame_data += [int(frame)]\n",
    "        for k in game_features:\n",
    "            frame_data += [game[frame]['players'][jig_id][k][feat] for feat in game_features[k]]\n",
    "        for k in game_features:\n",
    "            frame_data += [game[frame]['players'][other_id][k][feat] for feat in game_features[k]]\n",
    "        frame_data += setting_data\n",
    "\n",
    "        data.append(frame_data)\n",
    "\n",
    "    columns = ['frame']\n",
    "    for k in game_features:\n",
    "        columns += [\"p1_{}_{}\".format(k, feat) for feat in game_features[k]]\n",
    "    for k in game_features:\n",
    "        columns += [\"p2_{}_{}\".format(k, feat) for feat in game_features[k]]\n",
    "    columns += setting_features\n",
    "    \n",
    "    \n",
    "    pd.DataFrame(data, columns=columns).to_csv(os.path.join(out_dir, d + \".csv\"), index=False)"
   ]
  },
  {
   "cell_type": "code",
   "execution_count": 26,
   "metadata": {},
   "outputs": [],
   "source": [
    "\n"
   ]
  },
  {
   "cell_type": "code",
   "execution_count": 34,
   "metadata": {},
   "outputs": [],
   "source": []
  },
  {
   "cell_type": "code",
   "execution_count": 40,
   "metadata": {},
   "outputs": [],
   "source": []
  },
  {
   "cell_type": "code",
   "execution_count": null,
   "metadata": {},
   "outputs": [],
   "source": []
  }
 ],
 "metadata": {
  "kernelspec": {
   "display_name": "Python 3",
   "language": "python",
   "name": "python3"
  },
  "language_info": {
   "codemirror_mode": {
    "name": "ipython",
    "version": 3
   },
   "file_extension": ".py",
   "mimetype": "text/x-python",
   "name": "python",
   "nbconvert_exporter": "python",
   "pygments_lexer": "ipython3",
   "version": "3.7.4"
  }
 },
 "nbformat": 4,
 "nbformat_minor": 2
}
