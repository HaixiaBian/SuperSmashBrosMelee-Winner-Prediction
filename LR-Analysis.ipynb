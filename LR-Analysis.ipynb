{
 "cells": [
  {
   "cell_type": "code",
   "execution_count": 6,
   "metadata": {},
   "outputs": [],
   "source": [
    "import pandas as pd\n",
    "import os\n",
    "import numpy as np\n",
    "import statsmodels.formula.api as smf\n",
    "import statsmodels.api as sm\n",
    "from sklearn.linear_model import LogisticRegression"
   ]
  },
  {
   "cell_type": "code",
   "execution_count": 2,
   "metadata": {},
   "outputs": [],
   "source": [
    "data = []\n",
    "base = \"data\"\n",
    "for tourn in os.listdir(base):\n",
    "    for game in os.listdir(os.path.join(base, tourn)):\n",
    "        data.append(pd.read_csv(os.path.join(base, tourn, game)))\n",
    "data = pd.concat(data)\n",
    "data.to_csv(\"all_data.csv\")"
   ]
  },
  {
   "cell_type": "code",
   "execution_count": 7,
   "metadata": {},
   "outputs": [
    {
     "data": {
      "text/html": [
       "<div>\n",
       "<style scoped>\n",
       "    .dataframe tbody tr th:only-of-type {\n",
       "        vertical-align: middle;\n",
       "    }\n",
       "\n",
       "    .dataframe tbody tr th {\n",
       "        vertical-align: top;\n",
       "    }\n",
       "\n",
       "    .dataframe thead th {\n",
       "        text-align: right;\n",
       "    }\n",
       "</style>\n",
       "<table border=\"1\" class=\"dataframe\">\n",
       "  <thead>\n",
       "    <tr style=\"text-align: right;\">\n",
       "      <th></th>\n",
       "      <th>frame</th>\n",
       "      <th>p1_post_positionX</th>\n",
       "      <th>p1_post_positionY</th>\n",
       "      <th>p1_post_facingDirection</th>\n",
       "      <th>p1_post_percent</th>\n",
       "      <th>p1_post_shieldSize</th>\n",
       "      <th>p1_post_stocksRemaining</th>\n",
       "      <th>p1_post_lCancelStatus</th>\n",
       "      <th>p2_post_positionX</th>\n",
       "      <th>p2_post_positionY</th>\n",
       "      <th>p2_post_facingDirection</th>\n",
       "      <th>p2_post_percent</th>\n",
       "      <th>p2_post_shieldSize</th>\n",
       "      <th>p2_post_stocksRemaining</th>\n",
       "      <th>p2_post_lCancelStatus</th>\n",
       "      <th>stageId</th>\n",
       "      <th>winner</th>\n",
       "    </tr>\n",
       "  </thead>\n",
       "  <tbody>\n",
       "    <tr>\n",
       "      <th>0</th>\n",
       "      <td>15</td>\n",
       "      <td>29.235846</td>\n",
       "      <td>25.000099</td>\n",
       "      <td>-1</td>\n",
       "      <td>0.0</td>\n",
       "      <td>60.0</td>\n",
       "      <td>4</td>\n",
       "      <td>0.0</td>\n",
       "      <td>-11.293736</td>\n",
       "      <td>31.280098</td>\n",
       "      <td>1</td>\n",
       "      <td>0.0</td>\n",
       "      <td>60.0</td>\n",
       "      <td>4</td>\n",
       "      <td>0.0</td>\n",
       "      <td>3</td>\n",
       "      <td>False</td>\n",
       "    </tr>\n",
       "    <tr>\n",
       "      <th>1</th>\n",
       "      <td>30</td>\n",
       "      <td>26.403950</td>\n",
       "      <td>25.000099</td>\n",
       "      <td>-1</td>\n",
       "      <td>0.0</td>\n",
       "      <td>60.0</td>\n",
       "      <td>4</td>\n",
       "      <td>0.0</td>\n",
       "      <td>-11.293736</td>\n",
       "      <td>7.740095</td>\n",
       "      <td>1</td>\n",
       "      <td>0.0</td>\n",
       "      <td>60.0</td>\n",
       "      <td>4</td>\n",
       "      <td>0.0</td>\n",
       "      <td>3</td>\n",
       "      <td>False</td>\n",
       "    </tr>\n",
       "    <tr>\n",
       "      <th>2</th>\n",
       "      <td>45</td>\n",
       "      <td>24.824450</td>\n",
       "      <td>27.958099</td>\n",
       "      <td>-1</td>\n",
       "      <td>0.0</td>\n",
       "      <td>60.0</td>\n",
       "      <td>4</td>\n",
       "      <td>0.0</td>\n",
       "      <td>-17.622486</td>\n",
       "      <td>0.000100</td>\n",
       "      <td>-1</td>\n",
       "      <td>0.0</td>\n",
       "      <td>60.0</td>\n",
       "      <td>4</td>\n",
       "      <td>0.0</td>\n",
       "      <td>3</td>\n",
       "      <td>False</td>\n",
       "    </tr>\n",
       "    <tr>\n",
       "      <th>3</th>\n",
       "      <td>60</td>\n",
       "      <td>8.288322</td>\n",
       "      <td>34.108097</td>\n",
       "      <td>-1</td>\n",
       "      <td>0.0</td>\n",
       "      <td>60.0</td>\n",
       "      <td>4</td>\n",
       "      <td>0.0</td>\n",
       "      <td>-29.774284</td>\n",
       "      <td>28.980099</td>\n",
       "      <td>1</td>\n",
       "      <td>0.0</td>\n",
       "      <td>60.0</td>\n",
       "      <td>4</td>\n",
       "      <td>0.0</td>\n",
       "      <td>3</td>\n",
       "      <td>False</td>\n",
       "    </tr>\n",
       "    <tr>\n",
       "      <th>4</th>\n",
       "      <td>75</td>\n",
       "      <td>-3.019057</td>\n",
       "      <td>14.410093</td>\n",
       "      <td>-1</td>\n",
       "      <td>0.0</td>\n",
       "      <td>60.0</td>\n",
       "      <td>4</td>\n",
       "      <td>0.0</td>\n",
       "      <td>-33.895912</td>\n",
       "      <td>25.000099</td>\n",
       "      <td>1</td>\n",
       "      <td>0.0</td>\n",
       "      <td>60.0</td>\n",
       "      <td>4</td>\n",
       "      <td>0.0</td>\n",
       "      <td>3</td>\n",
       "      <td>False</td>\n",
       "    </tr>\n",
       "  </tbody>\n",
       "</table>\n",
       "</div>"
      ],
      "text/plain": [
       "   frame  p1_post_positionX  p1_post_positionY  p1_post_facingDirection  \\\n",
       "0     15          29.235846          25.000099                       -1   \n",
       "1     30          26.403950          25.000099                       -1   \n",
       "2     45          24.824450          27.958099                       -1   \n",
       "3     60           8.288322          34.108097                       -1   \n",
       "4     75          -3.019057          14.410093                       -1   \n",
       "\n",
       "   p1_post_percent  p1_post_shieldSize  p1_post_stocksRemaining  \\\n",
       "0              0.0                60.0                        4   \n",
       "1              0.0                60.0                        4   \n",
       "2              0.0                60.0                        4   \n",
       "3              0.0                60.0                        4   \n",
       "4              0.0                60.0                        4   \n",
       "\n",
       "   p1_post_lCancelStatus  p2_post_positionX  p2_post_positionY  \\\n",
       "0                    0.0         -11.293736          31.280098   \n",
       "1                    0.0         -11.293736           7.740095   \n",
       "2                    0.0         -17.622486           0.000100   \n",
       "3                    0.0         -29.774284          28.980099   \n",
       "4                    0.0         -33.895912          25.000099   \n",
       "\n",
       "   p2_post_facingDirection  p2_post_percent  p2_post_shieldSize  \\\n",
       "0                        1              0.0                60.0   \n",
       "1                        1              0.0                60.0   \n",
       "2                       -1              0.0                60.0   \n",
       "3                        1              0.0                60.0   \n",
       "4                        1              0.0                60.0   \n",
       "\n",
       "   p2_post_stocksRemaining  p2_post_lCancelStatus  stageId  winner  \n",
       "0                        4                    0.0        3   False  \n",
       "1                        4                    0.0        3   False  \n",
       "2                        4                    0.0        3   False  \n",
       "3                        4                    0.0        3   False  \n",
       "4                        4                    0.0        3   False  "
      ]
     },
     "execution_count": 7,
     "metadata": {},
     "output_type": "execute_result"
    }
   ],
   "source": [
    "data.head()"
   ]
  },
  {
   "cell_type": "code",
   "execution_count": 13,
   "metadata": {},
   "outputs": [
    {
     "data": {
      "text/plain": [
       "LogisticRegression(C=1.0, class_weight=None, dual=False, fit_intercept=True,\n",
       "          intercept_scaling=1, max_iter=100, multi_class='ovr', n_jobs=1,\n",
       "          penalty='l2', random_state=None, solver='liblinear', tol=0.0001,\n",
       "          verbose=0, warm_start=False)"
      ]
     },
     "execution_count": 13,
     "metadata": {},
     "output_type": "execute_result"
    }
   ],
   "source": [
    "model = LogisticRegression()\n",
    "train = data[['p1_post_stocksRemaining', 'p2_post_stocksRemaining', 'p1_post_percent', 'p2_post_percent']]\n",
    "model.fit(train, data['winner'])"
   ]
  },
  {
   "cell_type": "code",
   "execution_count": 14,
   "metadata": {},
   "outputs": [
    {
     "name": "stdout",
     "output_type": "stream",
     "text": [
      "0.7190622824963617\n"
     ]
    }
   ],
   "source": [
    "preds = model.predict(train)\n",
    "print(sum(preds == data['winner']) / len(data['winner']))"
   ]
  },
  {
   "cell_type": "code",
   "execution_count": 17,
   "metadata": {},
   "outputs": [
    {
     "data": {
      "text/plain": [
       "0      0\n",
       "1      0\n",
       "2      0\n",
       "3      0\n",
       "4      0\n",
       "      ..\n",
       "874    0\n",
       "875    0\n",
       "876    0\n",
       "877    0\n",
       "878    0\n",
       "Name: winner, Length: 474130, dtype: int64"
      ]
     },
     "execution_count": 17,
     "metadata": {},
     "output_type": "execute_result"
    }
   ],
   "source": [
    " data['winner'].astype(int)"
   ]
  },
  {
   "cell_type": "code",
   "execution_count": 6,
   "metadata": {},
   "outputs": [
    {
     "name": "stdout",
     "output_type": "stream",
     "text": [
      "   rate_marriage   age  yrs_married  children  religious  educ  occupation  \\\n",
      "0            3.0  32.0          9.0       3.0        3.0  17.0         2.0   \n",
      "1            3.0  27.0         13.0       3.0        1.0  14.0         3.0   \n",
      "2            4.0  22.0          2.5       0.0        1.0  16.0         3.0   \n",
      "3            4.0  37.0         16.5       4.0        3.0  16.0         5.0   \n",
      "4            5.0  27.0          9.0       1.0        1.0  14.0         3.0   \n",
      "\n",
      "   occupation_husb   affairs  affair  \n",
      "0              5.0  0.111111     1.0  \n",
      "1              4.0  3.230769     1.0  \n",
      "2              5.0  1.400000     1.0  \n",
      "3              5.0  0.727273     1.0  \n",
      "4              4.0  4.666666     1.0  \n"
     ]
    },
    {
     "ename": "ValueError",
     "evalue": "endog must be in the unit interval.",
     "output_type": "error",
     "traceback": [
      "\u001b[0;31m---------------------------------------------------------------------------\u001b[0m",
      "\u001b[0;31mValueError\u001b[0m                                Traceback (most recent call last)",
      "\u001b[0;32m<ipython-input-6-251f33838128>\u001b[0m in \u001b[0;36m<module>\u001b[0;34m()\u001b[0m\n\u001b[1;32m      2\u001b[0m \u001b[0mdta\u001b[0m\u001b[0;34m[\u001b[0m\u001b[0;34m'affair'\u001b[0m\u001b[0;34m]\u001b[0m \u001b[0;34m=\u001b[0m \u001b[0;34m(\u001b[0m\u001b[0mdta\u001b[0m\u001b[0;34m[\u001b[0m\u001b[0;34m'affairs'\u001b[0m\u001b[0;34m]\u001b[0m \u001b[0;34m>\u001b[0m \u001b[0;36m0\u001b[0m\u001b[0;34m)\u001b[0m\u001b[0;34m.\u001b[0m\u001b[0mastype\u001b[0m\u001b[0;34m(\u001b[0m\u001b[0mfloat\u001b[0m\u001b[0;34m)\u001b[0m\u001b[0;34m\u001b[0m\u001b[0;34m\u001b[0m\u001b[0m\n\u001b[1;32m      3\u001b[0m \u001b[0mprint\u001b[0m\u001b[0;34m(\u001b[0m\u001b[0mdta\u001b[0m\u001b[0;34m.\u001b[0m\u001b[0mhead\u001b[0m\u001b[0;34m(\u001b[0m\u001b[0;34m)\u001b[0m\u001b[0;34m)\u001b[0m\u001b[0;34m\u001b[0m\u001b[0;34m\u001b[0m\u001b[0m\n\u001b[0;32m----> 4\u001b[0;31m \u001b[0maffair_mod\u001b[0m \u001b[0;34m=\u001b[0m \u001b[0msm\u001b[0m\u001b[0;34m.\u001b[0m\u001b[0mLogit\u001b[0m\u001b[0;34m(\u001b[0m\u001b[0mdta\u001b[0m\u001b[0;34m[\u001b[0m\u001b[0;34m'occupation'\u001b[0m\u001b[0;34m]\u001b[0m\u001b[0;34m,\u001b[0m \u001b[0mdta\u001b[0m\u001b[0;34m[\u001b[0m\u001b[0;34m'affair'\u001b[0m\u001b[0;34m]\u001b[0m\u001b[0;34m)\u001b[0m\u001b[0;34m.\u001b[0m\u001b[0mfit\u001b[0m\u001b[0;34m(\u001b[0m\u001b[0;34m)\u001b[0m\u001b[0;34m\u001b[0m\u001b[0;34m\u001b[0m\u001b[0m\n\u001b[0m",
      "\u001b[0;32m~/anaconda3/lib/python3.6/site-packages/statsmodels/discrete/discrete_model.py\u001b[0m in \u001b[0;36m__init__\u001b[0;34m(self, endog, exog, **kwargs)\u001b[0m\n\u001b[1;32m    419\u001b[0m         if (not issubclass(self.__class__, MultinomialModel) and\n\u001b[1;32m    420\u001b[0m                 not np.all((self.endog >= 0) & (self.endog <= 1))):\n\u001b[0;32m--> 421\u001b[0;31m             \u001b[0;32mraise\u001b[0m \u001b[0mValueError\u001b[0m\u001b[0;34m(\u001b[0m\u001b[0;34m\"endog must be in the unit interval.\"\u001b[0m\u001b[0;34m)\u001b[0m\u001b[0;34m\u001b[0m\u001b[0;34m\u001b[0m\u001b[0m\n\u001b[0m\u001b[1;32m    422\u001b[0m \u001b[0;34m\u001b[0m\u001b[0m\n\u001b[1;32m    423\u001b[0m \u001b[0;34m\u001b[0m\u001b[0m\n",
      "\u001b[0;31mValueError\u001b[0m: endog must be in the unit interval."
     ]
    }
   ],
   "source": [
    "dta = sm.datasets.fair.load_pandas().data\n",
    "dta['affair'] = (dta['affairs'] > 0).astype(float)\n",
    "print(dta.head())\n",
    "affair_mod = sm.Logit(dta['occupation'], dta['affair']).fit()\n",
    "\n"
   ]
  },
  {
   "cell_type": "code",
   "execution_count": null,
   "metadata": {},
   "outputs": [],
   "source": []
  }
 ],
 "metadata": {
  "kernelspec": {
   "display_name": "Python 3",
   "language": "python",
   "name": "python3"
  },
  "language_info": {
   "codemirror_mode": {
    "name": "ipython",
    "version": 3
   },
   "file_extension": ".py",
   "mimetype": "text/x-python",
   "name": "python",
   "nbconvert_exporter": "python",
   "pygments_lexer": "ipython3",
   "version": "3.6.10"
  }
 },
 "nbformat": 4,
 "nbformat_minor": 2
}
